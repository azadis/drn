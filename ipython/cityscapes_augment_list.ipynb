{
 "cells": [
  {
   "cell_type": "code",
   "execution_count": 9,
   "metadata": {},
   "outputs": [
    {
     "name": "stdout",
     "output_type": "stream",
     "text": [
      "Populating the interactive namespace from numpy and matplotlib\n"
     ]
    }
   ],
   "source": [
    "%pylab inline"
   ]
  },
  {
   "cell_type": "code",
   "execution_count": 2,
   "metadata": {},
   "outputs": [],
   "source": [
    "import glob\n",
    "from PIL import Image"
   ]
  },
  {
   "cell_type": "code",
   "execution_count": 9,
   "metadata": {},
   "outputs": [
    {
     "name": "stdout",
     "output_type": "stream",
     "text": [
      "6160\n"
     ]
    }
   ],
   "source": [
    "all_ims = glob.glob('/mnt/disks/sazadi/drn/datasets/cityscapes/cityscapes_segall_1gpu_T1_nsem_35_gumbel_syncBN/*')\n",
    "with open('/mnt/disks/sazadi/drn/datasets/cityscapes/train_images.txt') as t_file:\n",
    "    t_ims = t_file.readlines()\n",
    "with open('/mnt/disks/sazadi/drn/datasets/cityscapes/train_labels.txt') as t_file:\n",
    "    t_lbls = t_file.readlines()\n",
    "\n",
    "tt=''\n",
    "ll = ''\n",
    "for i in t_ims:\n",
    "    tt += i\n",
    "for i in t_lbls:\n",
    "    ll += i\n",
    "\n",
    "for i in all_ims:\n",
    "    if 'spade_fff_128' in i:\n",
    "        if i.replace('spade_fff','label19') in all_ims:\n",
    "            tt+= '%s\\n'%(i.replace('/mnt/disks/sazadi/drn/datasets/cityscapes/',''))\n",
    "            ll+= '%s\\n'%(i.replace('spade_fff','label19').replace('/mnt/disks/sazadi/drn/datasets/cityscapes/',''))\n",
    "\n",
    "print(len(all_ims))\n",
    "with open('/mnt/disks/sazadi/drn/datasets/cityscapes/augmented_train_labels.txt','w') as file: \n",
    "    file.write(ll)\n",
    "    \n",
    "with open('/mnt/disks/sazadi/drn/datasets/cityscapes/augmented_train_images.txt','w') as file: \n",
    "    file.write(tt)"
   ]
  },
  {
   "cell_type": "code",
   "execution_count": 5,
   "metadata": {},
   "outputs": [
    {
     "data": {
      "text/plain": [
       "'/mnt/disks/sazadi/drn/datasets/cityscapes/cityscapes_segall_1gpu_T1_nsem_35_gumbel'"
      ]
     },
     "execution_count": 5,
     "metadata": {},
     "output_type": "execute_result"
    }
   ],
   "source": [
    "all_ims[0]"
   ]
  },
  {
   "cell_type": "code",
   "execution_count": 4,
   "metadata": {},
   "outputs": [],
   "source": []
  },
  {
   "cell_type": "code",
   "execution_count": 17,
   "metadata": {},
   "outputs": [],
   "source": [
    "for i in glob.glob(\"/mnt/disks/sazadi/drn/datasets/cityscapes/cityscapes_segall_1gpu_T1_nsem_35_gumbel_syncBN/*_label19_128_298900.png\"):\n",
    "    a=Image.open(i)\n",
    "    m=max(set(np.array(a).flatten())-set([255]))\n",
    "    assert(m<19)"
   ]
  },
  {
   "cell_type": "code",
   "execution_count": 16,
   "metadata": {},
   "outputs": [
    {
     "data": {
      "text/plain": [
       "{0, 1, 2, 3, 4, 5, 7, 8, 9, 10, 11, 13, 18, 34}"
      ]
     },
     "execution_count": 16,
     "metadata": {},
     "output_type": "execute_result"
    }
   ],
   "source": [
    "set(np.array(a).flatten())-set([255])"
   ]
  },
  {
   "cell_type": "code",
   "execution_count": null,
   "metadata": {},
   "outputs": [],
   "source": []
  }
 ],
 "metadata": {
  "kernelspec": {
   "display_name": "Python 3",
   "language": "python",
   "name": "python3"
  },
  "language_info": {
   "codemirror_mode": {
    "name": "ipython",
    "version": 3
   },
   "file_extension": ".py",
   "mimetype": "text/x-python",
   "name": "python",
   "nbconvert_exporter": "python",
   "pygments_lexer": "ipython3",
   "version": "3.7.4"
  }
 },
 "nbformat": 4,
 "nbformat_minor": 2
}
